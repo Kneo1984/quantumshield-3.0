{
 "cells": [
  {
   "cell_type": "code",
   "execution_count": 5,
   "id": "36408918",
   "metadata": {},
   "outputs": [
    {
     "name": "stdout",
     "output_type": "stream",
     "text": [
      "✅ QuantumShield aktiviert\n",
      "🔍 IP-Adresse:        169.254.52.65\n",
      "🧠 RAM:              15.72 GB\n",
      "⚙️ CPU:              Intel64 Family 6 Model 142 Stepping 12, GenuineIntel (4 Kerne, 8 Threads)\n",
      "💾 Speicher:         63.08/237.72 GB belegt\n",
      "📁 Arbeitsverzeichnis: c:\\Users\\denni\\OneDrive\\Dokumente\\Html_selbst_geschriebene\n",
      "🕒 Zeitstempel:       2025-04-05 18:10:34\n",
      "📜 Logs geschrieben in:\n",
      "   → shield.log\n",
      "   → shield_diagnose.log\n"
     ]
    }
   ],
   "source": [
    "# quantumshield_diagnose.py – Vollständige Systemdiagnose mit UTF-8 Support\n",
    "\n",
    "import socket\n",
    "import datetime\n",
    "import os\n",
    "import platform\n",
    "import psutil  # 🔍 Für CPU, RAM, etc.\n",
    "\n",
    "# 📁 Dateipfade\n",
    "logfile_main = \"shield.log\"\n",
    "logfile_diag = \"shield_diagnose.log\"\n",
    "\n",
    "# 🔧 Stelle sicher, dass alles als UTF-8 geschrieben wird\n",
    "def write_log(file, content):\n",
    "    with open(file, \"a\", encoding=\"utf-8\") as f:\n",
    "        f.write(content + \"\\n\")\n",
    "\n",
    "# 🌐 IP-Adresse ermitteln\n",
    "hostname = socket.gethostname()\n",
    "local_ip = socket.gethostbyname(hostname)\n",
    "\n",
    "# 🕒 Zeitstempel erstellen\n",
    "timestamp = datetime.datetime.now().strftime(\"%Y-%m-%d %H:%M:%S\")\n",
    "\n",
    "# 💻 Systeminfos erfassen\n",
    "system_name = platform.system()\n",
    "system_version = platform.version()\n",
    "architecture = platform.machine()\n",
    "processor = platform.processor()\n",
    "cpu_cores = psutil.cpu_count(logical=False)\n",
    "cpu_threads = psutil.cpu_count(logical=True)\n",
    "ram_total = round(psutil.virtual_memory().total / (1024**3), 2)\n",
    "\n",
    "# 📦 Speicherplatz\n",
    "disk = psutil.disk_usage('/')\n",
    "disk_total = round(disk.total / (1024**3), 2)\n",
    "disk_used = round(disk.used / (1024**3), 2)\n",
    "\n",
    "# 🛡️ Hauptlog schreiben\n",
    "write_log(logfile_main, f\"[{timestamp}] 🛡️ QuantumShield aktiviert auf {local_ip}\")\n",
    "\n",
    "# 🧪 Diagnoselog schreiben\n",
    "write_log(logfile_diag, \"==================== QuantumShield Systemdiagnose ====================\")\n",
    "write_log(logfile_diag, f\"[🔐] QuantumShield gestartet – {timestamp}\")\n",
    "write_log(logfile_diag, f\"[📁] Arbeitsverzeichnis: {os.getcwd()}\")\n",
    "write_log(logfile_diag, f\"[🖥️] Hostname: {hostname}\")\n",
    "write_log(logfile_diag, f\"[🌐] IP-Adresse: {local_ip}\")\n",
    "write_log(logfile_diag, f\"[💾] Speicherplatz: {disk_used} GB von {disk_total} GB belegt\")\n",
    "write_log(logfile_diag, f\"[🧠] RAM: {ram_total} GB\")\n",
    "write_log(logfile_diag, f\"[⚙️] CPU: {processor} ({cpu_cores} Kerne / {cpu_threads} Threads)\")\n",
    "write_log(logfile_diag, f\"[🖥️] OS: {system_name} {system_version} ({architecture})\")\n",
    "write_log(logfile_diag, f\"[✅] Status: Diagnose abgeschlossen\")\n",
    "\n",
    "# 📢 Direkte Ausgabe im Terminal (optional)\n",
    "print(\"✅ QuantumShield aktiviert\")\n",
    "print(f\"🔍 IP-Adresse:        {local_ip}\")\n",
    "print(f\"🧠 RAM:              {ram_total} GB\")\n",
    "print(f\"⚙️ CPU:              {processor} ({cpu_cores} Kerne, {cpu_threads} Threads)\")\n",
    "print(f\"💾 Speicher:         {disk_used}/{disk_total} GB belegt\")\n",
    "print(f\"📁 Arbeitsverzeichnis: {os.getcwd()}\")\n",
    "print(f\"🕒 Zeitstempel:       {timestamp}\")\n",
    "print(\"📜 Logs geschrieben in:\")\n",
    "print(f\"   → {logfile_main}\")\n",
    "print(f\"   → {logfile_diag}\")\n"
   ]
  }
 ],
 "metadata": {
  "kernelspec": {
   "display_name": "Python 3",
   "language": "python",
   "name": "python3"
  },
  "language_info": {
   "codemirror_mode": {
    "name": "ipython",
    "version": 3
   },
   "file_extension": ".py",
   "mimetype": "text/x-python",
   "name": "python",
   "nbconvert_exporter": "python",
   "pygments_lexer": "ipython3",
   "version": "3.12.9"
  }
 },
 "nbformat": 4,
 "nbformat_minor": 5
}
